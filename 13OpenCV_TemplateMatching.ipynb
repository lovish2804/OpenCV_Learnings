{
 "cells": [
  {
   "cell_type": "code",
   "execution_count": 2,
   "metadata": {},
   "outputs": [
    {
     "name": "stdout",
     "output_type": "stream",
     "text": [
      "[[0.7868854  0.78534067 0.78385496 ... 0.7876931  0.7909889  0.7943679 ]\n",
      " [0.785999   0.78441316 0.7829031  ... 0.7869093  0.7902112  0.79359627]\n",
      " [0.7851305  0.7835031  0.7819605  ... 0.7861831  0.789487   0.7928728 ]\n",
      " ...\n",
      " [0.83954555 0.8393377  0.8392373  ... 0.84078485 0.8405419  0.84017307]\n",
      " [0.84029037 0.8400717  0.83994466 ... 0.84082824 0.8406225  0.8402801 ]\n",
      " [0.8409676  0.84073955 0.8405834  ... 0.8408989  0.84073734 0.8404349 ]]\n",
      "(array([41], dtype=int64), array([107], dtype=int64))\n"
     ]
    }
   ],
   "source": [
    "import cv2\n",
    "import numpy as np\n",
    "img = cv2.imread(\"img.jpg\")\n",
    "grey_img = cv2.cvtColor(img, cv2.COLOR_BGR2GRAY)\n",
    "template = cv2.imread(\"imgg2.jpg\", 0)\n",
    "w, h = template.shape[::-1]\n",
    "\n",
    "res = cv2.matchTemplate(grey_img, template, cv2.TM_CCORR_NORMED )\n",
    "print(res)\n",
    "threshold = 0.999;\n",
    "loc = np.where(res >= threshold)\n",
    "print(loc)\n",
    "for pt in zip(*loc[::-1]):\n",
    "    cv2.rectangle(img, pt, (pt[0] + w, pt[1] + h), (0, 0, 255), 2)\n",
    "\n",
    "cv2.imshow(\"img\", img)\n",
    "cv2.waitKey(0)\n",
    "cv2.destroyAllWindows()"
   ]
  },
  {
   "cell_type": "code",
   "execution_count": null,
   "metadata": {},
   "outputs": [],
   "source": []
  }
 ],
 "metadata": {
  "kernelspec": {
   "display_name": "Python 3",
   "language": "python",
   "name": "python3"
  },
  "language_info": {
   "codemirror_mode": {
    "name": "ipython",
    "version": 3
   },
   "file_extension": ".py",
   "mimetype": "text/x-python",
   "name": "python",
   "nbconvert_exporter": "python",
   "pygments_lexer": "ipython3",
   "version": "3.8.5"
  }
 },
 "nbformat": 4,
 "nbformat_minor": 4
}
